{
 "cells": [
  {
   "cell_type": "markdown",
   "metadata": {},
   "source": [
    "## Importación de bibliotecas e inicialización de los parámetros"
   ]
  },
  {
   "cell_type": "markdown",
   "metadata": {},
   "source": [
    "1. Importamos las bibliotecas necesarias"
   ]
  },
  {
   "cell_type": "code",
   "execution_count": 5,
   "metadata": {},
   "outputs": [],
   "source": [
    "import numpy as np\n",
    "import pandas as pd\n",
    "import sklearn\n",
    "import math\n",
    "import matplotlib.pyplot as plt\n",
    "import seaborn as sn\n",
    "\n",
    "from sklearn.cluster import KMeans\n",
    "from sklearn.model_selection import StratifiedShuffleSplit\n",
    "from scipy.spatial.distance import pdist, squareform\n",
    "from sklearn.linear_model import LogisticRegression\n",
    "from sklearn.metrics import mean_squared_error, confusion_matrix\n",
    "from IPython.display import Latex\n"
   ]
  },
  {
   "cell_type": "markdown",
   "metadata": {},
   "source": [
    "2. Inicializamos las variables"
   ]
  },
  {
   "cell_type": "code",
   "execution_count": 6,
   "metadata": {},
   "outputs": [],
   "source": [
    "train_data =pd.read_csv(\"basesDatosPr3IMC/csv/train_nomnist.csv\", header=None)\n",
    "test_data = pd.read_csv(\"basesDatosPr3IMC/csv/test_nomnist.csv\", header = None)\n",
    "l2 = False\n",
    "ratio_rbf = 0.5\n",
    "eta = 10**-5\n",
    "classification = True\n",
    "outputs = 1"
   ]
  },
  {
   "cell_type": "markdown",
   "metadata": {},
   "source": [
    "## Ejecutamos el algoritmo"
   ]
  },
  {
   "cell_type": "code",
   "execution_count": 15,
   "metadata": {},
   "outputs": [
    {
     "name": "stdout",
     "output_type": "stream",
     "text": [
      "-----------\n",
      "Semilla: 100\n",
      "-----------\n",
      "Número de RBFs utilizadas: 450\n",
      "---------------------------\n",
      "MSE de entrenamiento: 0.000000\n",
      "MSE de test: 0.953333\n",
      "CCR de entrenamiento: 100.00%\n",
      "CCR de test: 88.00%\n",
      "-----------\n",
      "Semilla: 200\n",
      "-----------\n",
      "Número de RBFs utilizadas: 450\n",
      "---------------------------\n",
      "MSE de entrenamiento: 0.000000\n",
      "MSE de test: 0.953333\n",
      "CCR de entrenamiento: 100.00%\n",
      "CCR de test: 88.00%\n",
      "-----------\n",
      "Semilla: 300\n",
      "-----------\n",
      "Número de RBFs utilizadas: 450\n",
      "---------------------------\n",
      "MSE de entrenamiento: 0.000000\n",
      "MSE de test: 0.953333\n",
      "CCR de entrenamiento: 100.00%\n",
      "CCR de test: 88.00%\n",
      "-----------\n",
      "Semilla: 400\n",
      "-----------\n",
      "Número de RBFs utilizadas: 450\n",
      "---------------------------\n",
      "MSE de entrenamiento: 0.000000\n",
      "MSE de test: 0.953333\n",
      "CCR de entrenamiento: 100.00%\n",
      "CCR de test: 88.00%\n",
      "-----------\n",
      "Semilla: 500\n",
      "-----------\n",
      "Número de RBFs utilizadas: 450\n",
      "---------------------------\n",
      "MSE de entrenamiento: 0.000000\n",
      "MSE de test: 0.953333\n",
      "CCR de entrenamiento: 100.00%\n",
      "CCR de test: 88.00%\n",
      "\n",
      "*********************\n",
      "Resumen de resultados\n",
      "*********************\n",
      "MSE de entrenamiento: 0.000000 +- 0.000000\n",
      "MSE de test: 0.953333 +- 0.000000\n"
     ]
    },
    {
     "data": {
      "image/png": "[encoded data removed]",
      "text/plain": [
       "<Figure size 432x288 with 1 Axes>"
      ]
     },
     "metadata": {
      "needs_background": "light"
     },
     "output_type": "display_data"
    },
    {
     "data": {
      "image/png": "[encoded data removed]",
      "text/plain": [
       "<Figure size 432x288 with 1 Axes>"
      ]
     },
     "metadata": {
      "needs_background": "light"
     },
     "output_type": "display_data"
    },
    {
     "name": "stdout",
     "output_type": "stream",
     "text": [
      "CCR de entrenamiento: 100.00% +- 0.00%\n",
      "CCR de test: 88.00% +- 0.00%\n",
      "La matriz de confusión es la siguiente:\n"
     ]
    },
    {
     "data": {
      "image/png": "[encoded data removed]",
      "text/plain": [
       "<Figure size 288x288 with 2 Axes>"
      ]
     },
     "metadata": {
      "needs_background": "light"
     },
     "output_type": "display_data"
    }
   ],
   "source": [
    "train_mses = np.empty(5)\n",
    "train_ccrs = np.empty(5)\n",
    "test_mses = np.empty(5)\n",
    "test_ccrs = np.empty(5)\n",
    "\n",
    "for s in range(100,600,100):   \n",
    "    print(\"-----------\")\n",
    "    print(\"Semilla: %d\" % s)\n",
    "    print(\"-----------\")     \n",
    "    np.random.seed(s)\n",
    "    train_mses[s//100-1], test_mses[s//100-1], train_ccrs[s//100-1], test_ccrs[s//100-1], matriz_confusion = \\\n",
    "        entrenar(train_data, test_data, classification, ratio_rbf, l2, eta, outputs)\n",
    "    print(\"MSE de entrenamiento: %f\" % train_mses[s//100-1])\n",
    "    print(\"MSE de test: %f\" % test_mses[s//100-1])\n",
    "    if classification:\n",
    "        print(\"CCR de entrenamiento: %.2f%%\" % train_ccrs[s//100-1])\n",
    "        print(\"CCR de test: %.2f%%\" % test_ccrs[s//100-1])\n",
    "\n",
    "print(\"\\n*********************\")\n",
    "print(\"Resumen de resultados\")\n",
    "print(\"*********************\")\n",
    "print(\"MSE de entrenamiento: %f +- %f\" % (np.mean(train_mses), np.std(train_mses)))\n",
    "print(\"MSE de test: %f +- %f\" % (np.mean(test_mses), np.std(test_mses)))\n",
    "\n",
    "plt.title(\"MSE de train/test\")\n",
    "plt.xlabel(\"Iteración\")\n",
    "plt.ylabel(\"Error\")\n",
    "plt.legend(('train', 'test'))\n",
    "plt.plot(np.arange(1, train_mses.shape[0]+1), train_mses, 'r')\n",
    "plt.plot(np.arange(1, test_mses.shape[0]+1), test_mses, 'b')\n",
    "plt.show()\n",
    "    \n",
    "if classification:\n",
    "    plt.xlabel(\"Iteración\")\n",
    "    plt.ylabel(\"Patrones\")\n",
    "    plt.title(\"CCR de train/test\")\n",
    "    plt.legend(('train', 'test'))\n",
    "    plt.plot(np.arange(1, train_mses.shape[0]+1),train_ccrs, 'r')\n",
    "    plt.plot(np.arange(1, test_mses.shape[0]+1),test_ccrs, 'b')\n",
    "    plt.show()\n",
    "    \n",
    "    print(\"CCR de entrenamiento: %.2f%% +- %.2f%%\" % (np.mean(train_ccrs), np.std(train_ccrs)))\n",
    "    print(\"CCR de test: %.2f%% +- %.2f%%\" % (np.mean(test_ccrs), np.std(test_ccrs)))\n",
    "    print(\"La matriz de confusión es la siguiente:\")\n",
    "   \n",
    "    plt.figure(figsize = (4,4))\n",
    "    sn.heatmap(matriz_confusion, annot=True)\n",
    "    plt.show()"
   ]
  },
  {
   "cell_type": "markdown",
   "metadata": {},
   "source": [
    "## Funciones necesarias"
   ]
  },
  {
   "cell_type": "markdown",
   "metadata": {},
   "source": [
    "1. Inicializamos las variables de train y de test"
   ]
  },
  {
   "cell_type": "code",
   "execution_count": 7,
   "metadata": {},
   "outputs": [],
   "source": [
    "def inicializarDatos(train_data, test_data, outputs):\n",
    "    train_inputs = train_data.values[:, 0:-outputs];\n",
    "    train_outputs = train_data.values[:, -outputs];#Guarda las clases existentes\n",
    "\n",
    "    test_inputs = test_data.values[:, 0:-outputs];\n",
    "    test_outputs = test_data.values[:, -outputs];\n",
    "    \n",
    "    return train_inputs, train_outputs, test_inputs, test_outputs"
   ]
  },
  {
   "cell_type": "markdown",
   "metadata": {},
   "source": [
    "2. Esta función calculará los centroides de cada una de las rbfs de manera estratificada. Para ello, utilizamos la función StratifiedShuffleSplit. Seguidamente, recorremos la variable devuelta por esta función que contiene los centroides estratificados. Finalmente, barajamos dichos centroides."
   ]
  },
  {
   "cell_type": "code",
   "execution_count": 8,
   "metadata": {},
   "outputs": [],
   "source": [
    "def inicializar_clas(train_inputs, train_outputs, num_rbfs):\n",
    "    sss = StratifiedShuffleSplit(n_splits=num_rbfs, test_size=None, train_size=num_rbfs, random_state=0)\n",
    "\n",
    "    for train_index, test_index in sss.split(train_inputs, train_outputs):\n",
    "        centroides = train_inputs[train_index,:]\n",
    "    \n",
    "    indice = 0\n",
    "   \n",
    "    while centroides.shape[0] < num_rbfs:        \n",
    "        centroides = np.r_[centroides, [train_inputs[test_index[indice]]]] \n",
    "        indice += 1\n",
    "        \n",
    "    while centroides.shape[0] > num_rbfs:\n",
    "        centroides = centroides[np.random.choice(centroides.shape[0], num_rbfs,0),:]\n",
    "    return centroides"
   ]
  },
  {
   "cell_type": "markdown",
   "metadata": {},
   "source": [
    "3. En esta función hay que dividir dos partes, la primera, el caso de clasificación. Los centroides serán seleccionados de manera estratificada, para ello, realizamos una llamada a la función inicializar_clas, la cual inicializará dichos centroides. La segunda, el caso de regresión, los centroides serán seleccionados de manera aleatoria utilizando la función random.choice de la biblioteca numpy"
   ]
  },
  {
   "cell_type": "code",
   "execution_count": 9,
   "metadata": {},
   "outputs": [],
   "source": [
    "def clustering(classification, train_inputs, train_outputs, num_rbfs):\n",
    "    if classification == True:\n",
    "        centros = inicializar_clas(train_inputs, train_outputs, num_rbfs)\n",
    "    else:\n",
    "        centros = train_inputs[np.random.choice(train_inputs.shape[0], num_rbfs, replace=False), :]\n",
    "    \n",
    "    kmedias = KMeans(n_init=1, max_iter=500, n_clusters=num_rbfs, init=centros).fit(train_inputs)\n",
    "    centros = kmedias.cluster_centers_\n",
    "    distancias = kmedias.transform(train_inputs)\n",
    "    \n",
    "    return kmedias, distancias, centros"
   ]
  },
  {
   "cell_type": "markdown",
   "metadata": {},
   "source": [
    "4. La siguiente función calculará cada una de las distancias existentes entre los centroides y los demás patrones. Para ello se hará uso de la función squareform, que calcula la distancia euclídea de los centroides con respecto a cada uno de los patrones. Por último, se calcula la media de la suma de todas las distancias y se dividirá entre 2*num_rbfs-1, resultando la siguiente ecuación:\n",
    "\n",
    "$$\\sigma_{j} = \\frac{1}{2*(num\\_rbfs-1)} * \\Sigma_{i\\neq j}\\sqrt{\\Sigma_{d=1}^{n}(c_{jd}-d_{id})^2}$$\n",
    "==="
   ]
  },
  {
   "cell_type": "code",
   "execution_count": 10,
   "metadata": {},
   "outputs": [],
   "source": [
    "def calcular_radios(centroides, num_rbfs):\n",
    "    distancias_centros = squareform(pdist(centroides, 'euclidean'))\n",
    "    radios = distancias_centros.sum(axis=1)\n",
    "    radios = radios/(2*num_rbfs-1)\n",
    "    \n",
    "    return radios"
   ]
  },
  {
   "cell_type": "markdown",
   "metadata": {},
   "source": [
    "5. La función calcular_matriz_r calculará la matriz de salidas con la que entrenaremos nuestra red una vez alimentada con patrones. Para ello, utilizaremos una función gaussiana como la siguiente:\n",
    "$$\\varphi(\\textbf{x,c}, \\sigma) = exp(-\\frac{distancia}{2\\sigma^2})$$\n",
    "==="
   ]
  },
  {
   "cell_type": "code",
   "execution_count": 11,
   "metadata": {},
   "outputs": [],
   "source": [
    "def calcular_matriz_r(distancias, radios):\n",
    "    matriz_r = np.ones(shape = (distancias.shape[0], distancias.shape[1]+1))\n",
    "    matriz_r[:,:-1] =  np.exp(-(distancias**2)/(2*(np.power(radios, 2))))\n",
    "\n",
    "    return matriz_r"
   ]
  },
  {
   "cell_type": "markdown",
   "metadata": {},
   "source": [
    "6. La siguiente función calcula la matriz pseud-inversa de Moore Penrose, que corresponede con la siguiente fórmula:\n",
    "$$\\beta^{T}_{(n_1+1)*k} = (R^{+})_{(n_1+1)*N} Y_{N*k}$$\n",
    "===\n",
    "Para ello, utilizaremos la función linalg.pinv de la librería numpy para poder calcular dicha pseudo-inversa. Además, como hemos visto, realizamos un producto escalar con respecto a la salida de train y por último calculamos su transpuesta"
   ]
  },
  {
   "cell_type": "code",
   "execution_count": 12,
   "metadata": {},
   "outputs": [],
   "source": [
    "def invertir_matriz_r(matriz_r, train_outputs):\n",
    "    \n",
    "    coefficients = np.transpose(np.dot(np.linalg.pinv(matriz_r), train_outputs))\n",
    "    \n",
    "    return coefficients"
   ]
  },
  {
   "cell_type": "markdown",
   "metadata": {},
   "source": [
    "7. Esta función calculará la regresión logística de nuestra matriz de salidas. Dependiendo de si la bandera l2 está activa, utilizará una logística u otra. En el caso de ser True, utilizará una logística de tipo L2, en caso contrario, utilizará una logística de L1"
   ]
  },
  {
   "cell_type": "code",
   "execution_count": 13,
   "metadata": {},
   "outputs": [],
   "source": [
    "def calculate_logreg(matriz_r_train, train_outputs, eta, l2):\n",
    "    if l2 == True:\n",
    "        logreg = LogisticRegression(penalty='l2', C=1/eta, solver='liblinear', fit_intercept=False).fit(matriz_r_train,train_outputs)\n",
    "    else:\n",
    "        logreg = LogisticRegression(penalty='l1', C=1/eta, solver='liblinear', fit_intercept=False).fit(matriz_r_train,train_outputs)\n",
    "    \n",
    "    return logreg"
   ]
  },
  {
   "cell_type": "markdown",
   "metadata": {},
   "source": [
    "8. Esta función entrena nuestra red con los parámetros iniciales. Devuelve el error devuelto por nuestra red y si es un problema de clasificación, devolverá el porcentaje de CCR y la matriz de confusión resultantes de nuestro entrenamiento"
   ]
  },
  {
   "cell_type": "code",
   "execution_count": 14,
   "metadata": {},
   "outputs": [],
   "source": [
    "def entrenar(train_data, test_data, classification, ratio_rbf, l2, eta, outputs):\n",
    "    #Capa de entrada\n",
    "    train_inputs, train_outputs, test_inputs, test_outputs = inicializarDatos(train_data, test_data, outputs)\n",
    "\n",
    "    num_rbfs=int(round(ratio_rbf*len(train_inputs)))  #Multiplicar el ratio por el numero de patrones de train\n",
    "    print(\"Número de RBFs utilizadas: %d\" %(num_rbfs))\n",
    "    print(\"---------------------------\")\n",
    "\n",
    "    kmedias, distancias, centros = clustering(classification, train_inputs, train_outputs, num_rbfs)\n",
    "    radios = calcular_radios(centros, num_rbfs)\n",
    "    matriz_r = calcular_matriz_r(distancias, radios)\n",
    "\n",
    "    if not classification:\n",
    "        coefficients = invertir_matriz_r(matriz_r, train_outputs)\n",
    "    else:\n",
    "        logreg = calculate_logreg(matriz_r, train_outputs, eta, l2)\n",
    "\n",
    "    distancias_test = kmedias.transform(test_inputs)\n",
    "    matriz_r_test = calcular_matriz_r(distancias_test, radios)\n",
    "    \n",
    "    if not classification:\n",
    "        predicted_test_aux = np.dot(matriz_r_test, coefficients)\n",
    "        predicted_train_aux = np.dot(matriz_r, coefficients)\n",
    "        \n",
    "        predicted_test= np.round(predicted_test_aux)\n",
    "        predicted_train= np.round(predicted_train_aux) \n",
    "\n",
    "        predicted_test += 0.\n",
    "        predicted_train += 0.\n",
    "        \n",
    "        test_mse = mean_squared_error(test_outputs, predicted_test_aux)\n",
    "        train_mse = mean_squared_error(train_outputs, predicted_train_aux)\n",
    "        \n",
    "        train_ccr = 0\n",
    "        test_ccr = 0\n",
    "        matriz_confusion = np.ones(predicted_train.shape)\n",
    "    else:\n",
    "        predicted_train = logreg.predict(matriz_r)\n",
    "        predicted_test = logreg.predict(matriz_r_test)\n",
    "        \n",
    "        train_mse = mean_squared_error(predicted_train, train_outputs)\n",
    "        test_mse = mean_squared_error(predicted_test, test_outputs)\n",
    "        \n",
    "        train_ccr = logreg.score(matriz_r, train_outputs)*100\n",
    "        test_ccr = logreg.score(matriz_r_test, test_outputs)*100\n",
    "        \n",
    "        #Calculamos la matriz de confusion\n",
    "        matriz_confusion = confusion_matrix(test_outputs, predicted_test)\n",
    "        \n",
    "    return train_mse, test_mse, train_ccr, test_ccr, matriz_confusion"
   ]
  },
  {
   "cell_type": "code",
   "execution_count": null,
   "metadata": {},
   "outputs": [],
   "source": []
  },
  {
   "cell_type": "code",
   "execution_count": null,
   "metadata": {},
   "outputs": [],
   "source": []
  }
 ],
 "metadata": {
  "kernelspec": {
   "display_name": "Python 3",
   "language": "python",
   "name": "python3"
  },
  "language_info": {
   "codemirror_mode": {
    "name": "ipython",
    "version": 3
   },
   "file_extension": ".py",
   "mimetype": "text/x-python",
   "name": "python",
   "nbconvert_exporter": "python",
   "pygments_lexer": "ipython3",
   "version": "3.7.0"
  }
 },
 "nbformat": 4,
 "nbformat_minor": 2
}
