{
 "cells": [
  {
   "cell_type": "code",
   "execution_count": 101,
   "metadata": {},
   "outputs": [],
   "source": [
    "import numpy as np\n",
    "import pandas as pd\n",
    "import sklearn\n",
    "import math\n",
    "import matplotlib.pyplot as plt\n",
    "import seaborn as sn\n",
    "\n",
    "from sklearn.preprocessing import MinMaxScaler\n",
    "from sklearn.neighbors import KNeighborsClassifier\n",
    "from sklearn.linear_model import LogisticRegression\n",
    "from sklearn import preprocessing\n",
    "from sklearn.metrics import confusion_matrix"
   ]
  },
  {
   "cell_type": "code",
   "execution_count": 102,
   "metadata": {},
   "outputs": [],
   "source": [
    "train_data =pd.read_csv(\"basesDatosPr3IMC/train_optdigits.csv\", header=None)\n",
    "test_data = pd.read_csv(\"basesDatosPr3IMC/test_optdigits.csv\", header = None)"
   ]
  },
  {
   "cell_type": "markdown",
   "metadata": {},
   "source": [
    "# Normalize the values and get the X_train and Y_train"
   ]
  },
  {
   "cell_type": "code",
   "execution_count": 103,
   "metadata": {},
   "outputs": [
    {
     "name": "stdout",
     "output_type": "stream",
     "text": [
      "[0.         0.         0.77777778 ... 0.66666667 0.66666667 0.77777778]\n"
     ]
    }
   ],
   "source": [
    "scaler = MinMaxScaler()\n",
    "\n",
    "normalized_train_data = scaler.fit_transform(train_data)\n",
    "\n",
    "X_train = normalized_train_data[:,:-1]\n",
    "Y_train = normalized_train_data[:, -1]\n",
    "\n",
    "normalized_test_data = scaler.fit_transform(test_data)\n",
    "\n",
    "X_test = normalized_test_data[:, :-1]\n",
    "Y_test = normalized_test_data[:, -1]\n",
    "\n",
    "print(Y_train)"
   ]
  },
  {
   "cell_type": "code",
   "execution_count": 104,
   "metadata": {},
   "outputs": [
    {
     "name": "stdout",
     "output_type": "stream",
     "text": [
      "[0 1 2 ... 8 9 8]\n"
     ]
    }
   ],
   "source": [
    "label_e = preprocessing.LabelEncoder()\n",
    "label_e.fit(Y_train)\n",
    "\n",
    "Y_train_encoded = label_e.transform(Y_train)\n",
    "Y_test_encoded = label_e.transform(Y_test)\n",
    "\n",
    "print(Y_test_encoded)"
   ]
  },
  {
   "cell_type": "markdown",
   "metadata": {},
   "source": [
    "# 1. KNeighbours Classifier"
   ]
  },
  {
   "cell_type": "code",
   "execution_count": 60,
   "metadata": {},
   "outputs": [
    {
     "name": "stdout",
     "output_type": "stream",
     "text": [
      "KNeighborsClassifier(algorithm='auto', leaf_size=30, metric='minkowski',\n",
      "           metric_params=None, n_jobs=1, n_neighbors=5, p=2,\n",
      "           weights='uniform')\n"
     ]
    }
   ],
   "source": [
    "knn = KNeighborsClassifier()\n",
    "knn.fit(X_train, Y_train_encoded)\n",
    "print(knn)\n"
   ]
  },
  {
   "cell_type": "code",
   "execution_count": 62,
   "metadata": {},
   "outputs": [
    {
     "name": "stdout",
     "output_type": "stream",
     "text": [
      "[0 1 1 ... 1 9 8]\n"
     ]
    }
   ],
   "source": [
    "prediction_test = knn.predict(X_test)\n",
    "print(prediction_test)"
   ]
  },
  {
   "cell_type": "code",
   "execution_count": 66,
   "metadata": {},
   "outputs": [
    {
     "name": "stdout",
     "output_type": "stream",
     "text": [
      "The CCR is:  0.9788536449638287\n"
     ]
    }
   ],
   "source": [
    "precission = knn.score(X_test, Y_test_encoded)\n",
    "print(\"The CCR is: \", precission)"
   ]
  },
  {
   "cell_type": "code",
   "execution_count": 83,
   "metadata": {},
   "outputs": [
    {
     "name": "stdout",
     "output_type": "stream",
     "text": [
      "Confusion matrix:\n",
      " [[178   0   0   0   0   0   0   0   0   0]\n",
      " [  0 181   0   0   0   0   1   0   0   0]\n",
      " [  0   4 172   0   0   0   0   1   0   0]\n",
      " [  0   1   0 178   0   1   0   2   1   0]\n",
      " [  0   2   0   0 179   0   0   0   0   0]\n",
      " [  0   0   0   0   1 179   0   0   0   2]\n",
      " [  0   0   0   0   0   1 180   0   0   0]\n",
      " [  0   0   0   0   0   0   0 175   1   3]\n",
      " [  0  11   0   2   0   0   0   0 159   2]\n",
      " [  0   2   0   2   0   1   0   0   2 173]]\n"
     ]
    }
   ],
   "source": [
    "cm = confusion_matrix(Y_test_encoded, prediction_test)\n",
    "print(\"Confusion matrix:\\n\", cm)"
   ]
  },
  {
   "cell_type": "markdown",
   "metadata": {},
   "source": [
    "#### Let's try with different configurations"
   ]
  },
  {
   "cell_type": "code",
   "execution_count": 137,
   "metadata": {},
   "outputs": [
    {
     "name": "stdout",
     "output_type": "stream",
     "text": [
      "The accuray with  1 neightbours is: Train: 100.0 Test:  97.8297161936561\n",
      "The accuray with  2 neightbours is: Train: 99.18911849332984 Test:  97.44017807456873\n",
      "The accuray with  3 neightbours is: Train: 99.29374836515825 Test:  97.88536449638286\n",
      "The accuray with  4 neightbours is: Train: 99.08448862150145 Test:  97.8297161936561\n",
      "The accuray with  5 neightbours is: Train: 98.97985874967303 Test:  97.88536449638286\n",
      "The accuray with  6 neightbours is: Train: 98.87522887784462 Test:  97.60712298274903\n",
      "The accuray with  7 neightbours is: Train: 98.92754381375883 Test:  97.55147468002225\n",
      "The accuray with  8 neightbours is: Train: 98.84907140988753 Test:  97.60712298274903\n"
     ]
    }
   ],
   "source": [
    "for nn in range(1,9):\n",
    "    knn = KNeighborsClassifier(n_neighbors=nn)\n",
    "    knn.fit(X_train, Y_train_encoded)\n",
    "    \n",
    "    prediction_train = knn.predict(X_train)\n",
    "    prediction_test = knn.predict(X_test)\n",
    "    \n",
    "    precission_train = knn.score(X_train, Y_train_encoded)\n",
    "    precission_test = knn.score(X_test, Y_test_encoded)\n",
    "    \n",
    "    print(\"The accuray with \", nn, \"neightbours is: Train:\", precission_train*100, \"Test: \", precission_test*100)"
   ]
  },
  {
   "cell_type": "markdown",
   "metadata": {},
   "source": [
    "# 2. Logistic Regression"
   ]
  },
  {
   "cell_type": "code",
   "execution_count": 109,
   "metadata": {},
   "outputs": [
    {
     "name": "stdout",
     "output_type": "stream",
     "text": [
      "Confusion matrix:\n",
      " [[174   0   0   0   1   3   0   0   0   0]\n",
      " [  0 169   0   0   0   1   0   0   5   7]\n",
      " [  0   3 172   0   0   0   0   1   1   0]\n",
      " [  0   0   4 168   0   3   0   2   3   3]\n",
      " [  0   1   0   0 176   0   0   1   3   0]\n",
      " [  0   0   1   0   0 178   1   0   0   2]\n",
      " [  0   1   0   0   2   0 177   0   1   0]\n",
      " [  0   0   0   0   2   5   0 163   2   7]\n",
      " [  0   9   0   0   0   3   0   0 156   6]\n",
      " [  0   1   0   1   4   2   0   0   2 170]]\n",
      "The accuray is: \n",
      " Train: 98.03818990321737 \n",
      " Test:  94.76905954368392\n"
     ]
    }
   ],
   "source": [
    "clf = LogisticRegression(random_state=0, solver='lbfgs', multi_class='multinomial').fit(X_train, Y_train_encoded)\n",
    "\n",
    "prediction_train = clf.predict(X_train)\n",
    "prediction_test = clf.predict(X_test)\n",
    "\n",
    "precission_train = clf.score(X_train, Y_train_encoded)\n",
    "precission_test = clf.score(X_test, Y_test_encoded)\n",
    "\n",
    "cm = confusion_matrix(Y_test_encoded, prediction_test)\n",
    "print(\"Confusion matrix:\\n\", cm)\n",
    "\n",
    "print(\"The accuray is: \\n Train:\", precission_train*100, \"\\n Test: \", precission_test*100)"
   ]
  },
  {
   "cell_type": "markdown",
   "metadata": {},
   "source": [
    "#### Let's try with different configuration"
   ]
  },
  {
   "cell_type": "code",
   "execution_count": 135,
   "metadata": {},
   "outputs": [
    {
     "name": "stdout",
     "output_type": "stream",
     "text": [
      "The accuray with the state 0  is: \n",
      " Train: 98.03818990321737 \n",
      " Test:  94.76905954368392\n",
      "The accuray with the state 1  is: \n",
      " Train: 98.03818990321737 \n",
      " Test:  94.76905954368392\n",
      "The accuray with the state 2  is: \n",
      " Train: 98.03818990321737 \n",
      " Test:  94.76905954368392\n",
      "The accuray with the state 3  is: \n",
      " Train: 98.03818990321737 \n",
      " Test:  94.76905954368392\n",
      "The accuray with the state 4  is: \n",
      " Train: 98.03818990321737 \n",
      " Test:  94.76905954368392\n",
      "The accuray with the state 5  is: \n",
      " Train: 98.03818990321737 \n",
      " Test:  94.76905954368392\n",
      "The accuray with the state 6  is: \n",
      " Train: 98.03818990321737 \n",
      " Test:  94.76905954368392\n",
      "The accuray with the state 7  is: \n",
      " Train: 98.03818990321737 \n",
      " Test:  94.76905954368392\n",
      "The accuray with the state 8  is: \n",
      " Train: 98.03818990321737 \n",
      " Test:  94.76905954368392\n"
     ]
    }
   ],
   "source": [
    "for state in range(0,9):\n",
    "    clf = LogisticRegression(random_state=state, solver=solver_t, multi_class='multinomial').fit(X_train, Y_train_encoded)\n",
    "\n",
    "    prediction_train = clf.predict(X_train)\n",
    "    prediction_test = clf.predict(X_test)\n",
    "\n",
    "    precission_train = clf.score(X_train, Y_train_encoded)\n",
    "    precission_test = clf.score(X_test, Y_test_encoded)\n",
    "\n",
    "    print(\"The accuray with the state\", state, \" is: \\n Train:\", precission_train*100, \"\\n Test: \", precission_test*100)"
   ]
  },
  {
   "cell_type": "code",
   "execution_count": null,
   "metadata": {},
   "outputs": [],
   "source": []
  }
 ],
 "metadata": {
  "kernelspec": {
   "display_name": "Python 3",
   "language": "python",
   "name": "python3"
  },
  "language_info": {
   "codemirror_mode": {
    "name": "ipython",
    "version": 3
   },
   "file_extension": ".py",
   "mimetype": "text/x-python",
   "name": "python",
   "nbconvert_exporter": "python",
   "pygments_lexer": "ipython3",
   "version": "3.7.0"
  }
 },
 "nbformat": 4,
 "nbformat_minor": 2
}
